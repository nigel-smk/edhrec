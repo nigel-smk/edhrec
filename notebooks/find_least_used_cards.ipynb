{
 "cells": [
  {
   "cell_type": "code",
   "execution_count": 1,
   "id": "6db1ff74-1521-402a-834b-f401c23e1c11",
   "metadata": {},
   "outputs": [],
   "source": [
    "%load_ext autoreload\n",
    "%autoreload 2"
   ]
  },
  {
   "cell_type": "code",
   "execution_count": 2,
   "id": "03554a7c-4dec-4af7-b924-ecd2ec1f8604",
   "metadata": {},
   "outputs": [],
   "source": [
    "from lib.scrape import fetch_urls\n",
    "from lib.write import load_jsonl_directory_pandas\n",
    "from lib.extract import extract_commander_details, flatten_cards\n",
    "import pandas as pd"
   ]
  },
  {
   "cell_type": "code",
   "execution_count": 4,
   "id": "324e0b9b-d117-4152-b85d-59ead4360c6f",
   "metadata": {},
   "outputs": [],
   "source": [
    "commander_cards_df = pd.read_csv(\"../data/analytical/commander_cards.csv\")"
   ]
  },
  {
   "cell_type": "code",
   "execution_count": 6,
   "id": "ff9929f0-39eb-45ec-9728-a3fd15a67729",
   "metadata": {},
   "outputs": [],
   "source": [
    "card_details_df = load_jsonl_directory_pandas(\"../data/operational/card_details\")"
   ]
  },
  {
   "cell_type": "code",
   "execution_count": 45,
   "id": "bea9d3f8-629b-40ef-ae23-03f6c8eba62b",
   "metadata": {},
   "outputs": [
    {
     "data": {
      "text/plain": [
       "Index(['inclusion', 'num_decks', 'potential_decks', 'aetherhub_uri',\n",
       "       'archidekt_uri', 'color_identity', 'cmc', 'deckstats_uri', 'image_uris',\n",
       "       'layout', 'moxfield_uri', 'mtggoldfish_uri', 'name', 'names', 'prices',\n",
       "       'primary_type', 'rarity', 'salt', 'sanitized', 'sanitized_wo',\n",
       "       'scryfall_uri', 'spellbook_uri', 'type', 'label', 'url', 'commanders',\n",
       "       'combos', 'cards', 'legal_commander', 'new', 'precon', 'legal_partner',\n",
       "       'partners_with', 'banned'],\n",
       "      dtype='object')"
      ]
     },
     "execution_count": 45,
     "metadata": {},
     "output_type": "execute_result"
    }
   ],
   "source": [
    "card_details_df.columns"
   ]
  },
  {
   "cell_type": "code",
   "execution_count": 53,
   "id": "e9ede0aa-9077-414a-942d-5ce784c4e7bd",
   "metadata": {},
   "outputs": [
    {
     "data": {
      "text/html": [
       "<div>\n",
       "<style scoped>\n",
       "    .dataframe tbody tr th:only-of-type {\n",
       "        vertical-align: middle;\n",
       "    }\n",
       "\n",
       "    .dataframe tbody tr th {\n",
       "        vertical-align: top;\n",
       "    }\n",
       "\n",
       "    .dataframe thead th {\n",
       "        text-align: right;\n",
       "    }\n",
       "</style>\n",
       "<table border=\"1\" class=\"dataframe\">\n",
       "  <thead>\n",
       "    <tr style=\"text-align: right;\">\n",
       "      <th></th>\n",
       "      <th>name</th>\n",
       "      <th>num_decks</th>\n",
       "    </tr>\n",
       "  </thead>\n",
       "  <tbody>\n",
       "    <tr>\n",
       "      <th>1011</th>\n",
       "      <td>Braids, Cabal Minion</td>\n",
       "      <td>0</td>\n",
       "    </tr>\n",
       "    <tr>\n",
       "      <th>410</th>\n",
       "      <td>Battlefield Percher</td>\n",
       "      <td>8</td>\n",
       "    </tr>\n",
       "    <tr>\n",
       "      <th>1812</th>\n",
       "      <td>Elite Javelineer</td>\n",
       "      <td>9</td>\n",
       "    </tr>\n",
       "    <tr>\n",
       "      <th>1001</th>\n",
       "      <td>Samite Alchemist</td>\n",
       "      <td>13</td>\n",
       "    </tr>\n",
       "    <tr>\n",
       "      <th>35</th>\n",
       "      <td>Warped Researcher</td>\n",
       "      <td>13</td>\n",
       "    </tr>\n",
       "    <tr>\n",
       "      <th>...</th>\n",
       "      <td>...</td>\n",
       "      <td>...</td>\n",
       "    </tr>\n",
       "    <tr>\n",
       "      <th>638</th>\n",
       "      <td>Headless Specter</td>\n",
       "      <td>162</td>\n",
       "    </tr>\n",
       "    <tr>\n",
       "      <th>1591</th>\n",
       "      <td>Rise of Extus</td>\n",
       "      <td>162</td>\n",
       "    </tr>\n",
       "    <tr>\n",
       "      <th>271</th>\n",
       "      <td>Air Servant</td>\n",
       "      <td>164</td>\n",
       "    </tr>\n",
       "    <tr>\n",
       "      <th>247</th>\n",
       "      <td>Sigardian Priest</td>\n",
       "      <td>164</td>\n",
       "    </tr>\n",
       "    <tr>\n",
       "      <th>956</th>\n",
       "      <td>Ornitharch</td>\n",
       "      <td>167</td>\n",
       "    </tr>\n",
       "  </tbody>\n",
       "</table>\n",
       "<p>200 rows × 2 columns</p>\n",
       "</div>"
      ],
      "text/plain": [
       "                      name  num_decks\n",
       "1011  Braids, Cabal Minion          0\n",
       "410    Battlefield Percher          8\n",
       "1812      Elite Javelineer          9\n",
       "1001      Samite Alchemist         13\n",
       "35       Warped Researcher         13\n",
       "...                    ...        ...\n",
       "638       Headless Specter        162\n",
       "1591         Rise of Extus        162\n",
       "271            Air Servant        164\n",
       "247       Sigardian Priest        164\n",
       "956             Ornitharch        167\n",
       "\n",
       "[200 rows x 2 columns]"
      ]
     },
     "execution_count": 53,
     "metadata": {},
     "output_type": "execute_result"
    }
   ],
   "source": [
    "card_details_df.sort_values(by=\"num_decks\")[[\"name\", \"num_decks\"]].head(200)"
   ]
  }
 ],
 "metadata": {
  "kernelspec": {
   "display_name": "Python 3 (ipykernel)",
   "language": "python",
   "name": "python3"
  },
  "language_info": {
   "codemirror_mode": {
    "name": "ipython",
    "version": 3
   },
   "file_extension": ".py",
   "mimetype": "text/x-python",
   "name": "python",
   "nbconvert_exporter": "python",
   "pygments_lexer": "ipython3",
   "version": "3.11.4"
  }
 },
 "nbformat": 4,
 "nbformat_minor": 5
}
