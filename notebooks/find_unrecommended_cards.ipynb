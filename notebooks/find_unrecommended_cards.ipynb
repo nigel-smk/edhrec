{
 "cells": [
  {
   "cell_type": "code",
   "execution_count": 36,
   "id": "6db1ff74-1521-402a-834b-f401c23e1c11",
   "metadata": {
    "scrolled": true
   },
   "outputs": [
    {
     "name": "stdout",
     "output_type": "stream",
     "text": [
      "The autoreload extension is already loaded. To reload it, use:\n",
      "  %reload_ext autoreload\n"
     ]
    }
   ],
   "source": [
    "%load_ext autoreload\n",
    "%autoreload 2"
   ]
  },
  {
   "cell_type": "code",
   "execution_count": 37,
   "id": "03554a7c-4dec-4af7-b924-ecd2ec1f8604",
   "metadata": {},
   "outputs": [],
   "source": [
    "from lib.scrape import fetch_urls\n",
    "from lib.write import load_jsonl_directory_pandas\n",
    "from lib.extract import extract_commander_details, flatten_cards\n",
    "import pandas as pd"
   ]
  },
  {
   "cell_type": "code",
   "execution_count": 38,
   "id": "324e0b9b-d117-4152-b85d-59ead4360c6f",
   "metadata": {},
   "outputs": [],
   "source": [
    "commander_cards_df = pd.read_csv(\"../data/analytical/commander_cards.csv\")"
   ]
  },
  {
   "cell_type": "code",
   "execution_count": 39,
   "id": "7ae4f6ad-0793-4dab-90f4-a4fce5824246",
   "metadata": {},
   "outputs": [],
   "source": [
    "# commander_cards_df[(commander_cards_df[\"card_inclusion\"] < 0.1)]\n",
    "# commander_cards_df[(commander_cards_df[\"sanitized\"].str.contains(\"meren-of-clan-nel-toth\"))]"
   ]
  },
  {
   "cell_type": "code",
   "execution_count": 40,
   "id": "ff9929f0-39eb-45ec-9728-a3fd15a67729",
   "metadata": {},
   "outputs": [],
   "source": [
    "card_details_df = load_jsonl_directory_pandas(\"../data/operational/card_details\")"
   ]
  },
  {
   "cell_type": "code",
   "execution_count": 41,
   "id": "dad4f47b-64ff-4e58-acf4-3a5ba1ee94e3",
   "metadata": {},
   "outputs": [],
   "source": [
    "collection_df = pd.read_csv(\"../data/operational/collection.csv\")"
   ]
  },
  {
   "cell_type": "code",
   "execution_count": 63,
   "id": "e23f5764-83bd-4eb4-a9f1-2dbad56bfd0e",
   "metadata": {},
   "outputs": [],
   "source": [
    "# commander_cards = commander_cards_df[commander_cards_df[\"num_decks\"] > 200][\"card_sanitized\"].unique()\n",
    "\n",
    "# commander_cards = commander_cards_df[commander_cards_df[\"tribe\"] == \"base\"][\"card_sanitized\"].unique()\n",
    "\n",
    "# base_commanders_df = commander_cards_df[(commander_cards_df[\"tribe\"] == \"base\") & (commander_cards_df[\"num_decks\"] > 75)]\n",
    "# commander_cards = commander_cards_df[commander_cards_df[\"name\"].isin(base_commanders_df[\"name\"])][\"card_sanitized\"].unique()\n",
    "\n",
    "# base_commanders_df = commander_cards_df[(commander_cards_df[\"tribe\"] == \"base\") & (commander_cards_df[\"num_decks\"] > 1000)]\n",
    "# commander_cards = commander_cards_df[\n",
    "#     (commander_cards_df[\"card_inclusion\"] > 0.25)\n",
    "#     & commander_cards_df[\"name\"].isin(base_commanders_df[\"name\"])][\"card_sanitized\"].unique()\n",
    "\n",
    "base_commanders_df = commander_cards_df[(commander_cards_df[\"tribe\"] == \"base\") & (commander_cards_df[\"num_decks\"] > 1000)]\n",
    "commander_cards = commander_cards_df[\n",
    "    (commander_cards_df[\"card_inclusion\"] > 0.15)\n",
    "    & commander_cards_df[\"sanitized\"].isin(base_commanders_df[\"sanitized\"])][\"card_sanitized\"].unique()\n",
    "\n",
    "# TODO how many decks that have a base commander with 1000 or more decks is the card in?\n",
    "\n",
    "# TODO does the card only show up in tribal decks?"
   ]
  },
  {
   "cell_type": "code",
   "execution_count": 64,
   "id": "a0e58bc4-ba01-4903-9eee-ab39c29f7365",
   "metadata": {},
   "outputs": [],
   "source": [
    "unrecommended_cards_df = card_details_df[~card_details_df[\"sanitized\"].isin(list(commander_cards))].sort_values(by=\"num_decks\")"
   ]
  },
  {
   "cell_type": "code",
   "execution_count": 65,
   "id": "e9ef82f0-86af-4042-b49a-499e868652d0",
   "metadata": {
    "scrolled": true
   },
   "outputs": [
    {
     "data": {
      "text/plain": [
       "1011    braids-cabal-minion\n",
       "410     battlefield-percher\n",
       "1812       elite-javelineer\n",
       "777           fleeting-aven\n",
       "1001       samite-alchemist\n",
       "               ...         \n",
       "2014                 terror\n",
       "891       shapers-sanctuary\n",
       "1634     call-the-gatewatch\n",
       "1936         grappling-hook\n",
       "1654          mazemind-tome\n",
       "Name: sanitized, Length: 788, dtype: object"
      ]
     },
     "execution_count": 65,
     "metadata": {},
     "output_type": "execute_result"
    }
   ],
   "source": [
    "unrecommended_cards_df[\"sanitized\"]"
   ]
  },
  {
   "cell_type": "code",
   "execution_count": 45,
   "id": "ccc0b87e-91c7-46c6-884f-69cb198a511e",
   "metadata": {},
   "outputs": [],
   "source": [
    "to_remove_df = collection_df[collection_df[\"name_sanitized\"].isin(unrecommended_cards_df[\"sanitized\"])]"
   ]
  },
  {
   "cell_type": "code",
   "execution_count": 46,
   "id": "7c807c5b-46b8-401a-b11e-a9628a54d89c",
   "metadata": {},
   "outputs": [],
   "source": [
    "to_remove_df.drop(columns=[\"name_sanitized\", \"url\"]).to_csv(\"../data/sink/nonbase.csv\", index=False)"
   ]
  }
 ],
 "metadata": {
  "kernelspec": {
   "display_name": "Python 3 (ipykernel)",
   "language": "python",
   "name": "python3"
  },
  "language_info": {
   "codemirror_mode": {
    "name": "ipython",
    "version": 3
   },
   "file_extension": ".py",
   "mimetype": "text/x-python",
   "name": "python",
   "nbconvert_exporter": "python",
   "pygments_lexer": "ipython3",
   "version": "3.11.4"
  }
 },
 "nbformat": 4,
 "nbformat_minor": 5
}
