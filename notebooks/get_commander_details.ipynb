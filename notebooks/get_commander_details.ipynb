{
 "cells": [
  {
   "cell_type": "code",
   "execution_count": 2,
   "id": "6175f1b8-d5ec-4653-b47f-747c302aadb6",
   "metadata": {},
   "outputs": [],
   "source": [
    "%load_ext autoreload\n",
    "%autoreload 2"
   ]
  },
  {
   "cell_type": "code",
   "execution_count": 18,
   "id": "6d6eac50-04b1-42c5-86ee-87fe39af732a",
   "metadata": {},
   "outputs": [],
   "source": [
    "from lib.scrape import fetch_urls\n",
    "from lib.write import write_json_lines_partition, filter_failures, load_jsonl_files\n",
    "from lib.extract import extract_commander_details\n",
    "import pandas as pd\n",
    "import re\n",
    "import json"
   ]
  },
  {
   "cell_type": "code",
   "execution_count": 3,
   "id": "8235436d-a841-4e5a-b807-b8883e27f695",
   "metadata": {},
   "outputs": [],
   "source": [
    "card_details_df = load_jsonl_directory_pandas(\"../data/operational/card_details\")"
   ]
  },
  {
   "cell_type": "code",
   "execution_count": 4,
   "id": "e2a8948a-c241-4f38-a51b-21851a744608",
   "metadata": {},
   "outputs": [],
   "source": [
    "commander_urls = ('https://json.edhrec.com/pages' \\\n",
    "    + pd.json_normalize(card_details_df.explode('commanders')['commanders'])['url'] \\\n",
    "    + '.json').unique()"
   ]
  },
  {
   "cell_type": "code",
   "execution_count": 5,
   "id": "a4b23490-163d-4ec6-b4cb-6a0c8c09e0d6",
   "metadata": {},
   "outputs": [
    {
     "name": "stderr",
     "output_type": "stream",
     "text": [
      "Fetching URLs: 100%|██████████| 2185/2185 [07:30<00:00,  4.85URL/s, Est. Time Remaining=0.00s]   \n"
     ]
    }
   ],
   "source": [
    "commander_details_json, failures = fetch_urls(commander_urls)"
   ]
  },
  {
   "cell_type": "code",
   "execution_count": 10,
   "id": "a0aa2a92-f3db-4420-a4bc-43cde9f35c41",
   "metadata": {},
   "outputs": [],
   "source": [
    "json_file_directory = \"../data/staging/commander_details\"\n",
    "write_json_lines_partition(commander_details_json, 64, json_file_directory)"
   ]
  },
  {
   "cell_type": "markdown",
   "id": "0509b4ef-4b20-4128-8e04-d308bb29ed72",
   "metadata": {},
   "source": [
    "TODO: find all cards that show up in synergy, top cards, other cards\n",
    "Then subtract that list from the collection and see how many cards you can get rid of!"
   ]
  },
  {
   "cell_type": "code",
   "execution_count": 7,
   "id": "a0a96544-3cd9-402a-afa7-dcf6982fef99",
   "metadata": {},
   "outputs": [],
   "source": [
    "commander_details_json = load_jsonl_files(\"../data/staging/commander_details\")"
   ]
  },
  {
   "cell_type": "code",
   "execution_count": 19,
   "id": "8a71eecd-ece3-441c-b25f-1a8a4ae7a20e",
   "metadata": {},
   "outputs": [],
   "source": [
    "operational_commander_details = extract_commander_details(commander_details_json)"
   ]
  },
  {
   "cell_type": "code",
   "execution_count": 20,
   "id": "6a2cd2fa-da1d-432a-b997-c30a1fe50e25",
   "metadata": {},
   "outputs": [],
   "source": [
    "json_file_directory = \"../data/operational/commander_details\"\n",
    "write_json_lines_partition(operational_commander_details, 64, json_file_directory)"
   ]
  }
 ],
 "metadata": {
  "kernelspec": {
   "display_name": "Python 3 (ipykernel)",
   "language": "python",
   "name": "python3"
  },
  "language_info": {
   "codemirror_mode": {
    "name": "ipython",
    "version": 3
   },
   "file_extension": ".py",
   "mimetype": "text/x-python",
   "name": "python",
   "nbconvert_exporter": "python",
   "pygments_lexer": "ipython3",
   "version": "3.11.4"
  }
 },
 "nbformat": 4,
 "nbformat_minor": 5
}
