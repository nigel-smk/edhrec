{
 "cells": [
  {
   "cell_type": "code",
   "execution_count": 1,
   "id": "6f5a7f44-6800-4cfa-af9a-132fe2efe40c",
   "metadata": {},
   "outputs": [],
   "source": [
    "%load_ext autoreload\n",
    "%autoreload 2"
   ]
  },
  {
   "cell_type": "code",
   "execution_count": 68,
   "id": "b86ac0b3-bd73-4747-83f3-bef09e03ec77",
   "metadata": {},
   "outputs": [],
   "source": [
    "from lib.scrape import fetch_urls\n",
    "from lib.write import write_json_lines_partition\n",
    "import pandas as pd\n",
    "import re\n",
    "import json"
   ]
  },
  {
   "cell_type": "code",
   "execution_count": 29,
   "id": "77f65e73-ba08-4126-a1fc-b1547db2eb36",
   "metadata": {},
   "outputs": [],
   "source": [
    "csv_file_path = \"../data/helavault_aug2023.csv\"\n",
    "collection_df = pd.read_csv(\"../data/operational/collection.csv\")"
   ]
  },
  {
   "cell_type": "code",
   "execution_count": 60,
   "id": "23f02bf9-6211-437c-a19e-04655d3a3115",
   "metadata": {},
   "outputs": [
    {
     "name": "stderr",
     "output_type": "stream",
     "text": [
      "Fetching URLs: 100%|██████████| 2242/2242 [10:14<00:00,  3.65URL/s, Est. Time Remaining=0.00s]    \n"
     ]
    }
   ],
   "source": [
    "card_details_json, failures = fetch_urls(list(set(collection_df['url'])))"
   ]
  },
  {
   "cell_type": "code",
   "execution_count": 61,
   "id": "b7fdd452-b6a8-420d-9c78-0eeefca844e3",
   "metadata": {},
   "outputs": [
    {
     "data": {
      "text/plain": [
       "[('https://json.edhrec.com/pages/cards/a-dragons-rage-channeler.json',\n",
       "  requests.exceptions.HTTPError('403 Client Error: Forbidden for url: https://json.edhrec.com/pages/cards/a-dragons-rage-channeler.json')),\n",
       " ('https://json.edhrec.com/pages/cards/sance.json',\n",
       "  requests.exceptions.HTTPError('403 Client Error: Forbidden for url: https://json.edhrec.com/pages/cards/sance.json'))]"
      ]
     },
     "execution_count": 61,
     "metadata": {},
     "output_type": "execute_result"
    }
   ],
   "source": [
    "failures"
   ]
  },
  {
   "cell_type": "code",
   "execution_count": 62,
   "id": "87fabd6a-aff5-4a01-9156-4788cf3425cd",
   "metadata": {},
   "outputs": [
    {
     "name": "stderr",
     "output_type": "stream",
     "text": [
      "Fetching URLs: 100%|██████████| 2/2 [00:00<00:00, 12.82URL/s, Est. Time Remaining=0.00s]\n"
     ]
    }
   ],
   "source": [
    "# TODO use yielding fetch_urls\n",
    "card_details_json_fixed, failures_fixed = fetch_urls(\n",
    "    ['https://json.edhrec.com/pages/cards/seance.json', 'https://json.edhrec.com/pages/cards/dragons-rage-channeler.json']\n",
    ")"
   ]
  },
  {
   "cell_type": "code",
   "execution_count": 64,
   "id": "5ae60835-a229-4da7-968b-f8bed53477ee",
   "metadata": {},
   "outputs": [],
   "source": [
    "card_details_json += card_details_json_fixed"
   ]
  },
  {
   "cell_type": "code",
   "execution_count": 71,
   "id": "0d8f7616-dbc7-44f6-97d8-4b26b6ba7427",
   "metadata": {},
   "outputs": [],
   "source": [
    "json_file_directory = \"../data/staging/card_details\"\n",
    "write_json_lines_partition(card_details_json, 64, json_file_directory)"
   ]
  },
  {
   "cell_type": "code",
   "execution_count": 88,
   "id": "e6337f39-31e2-4674-8d4f-85137f6f0487",
   "metadata": {},
   "outputs": [],
   "source": [
    "def get_commanders(card_detail):\n",
    "    if \"cardlists\" not in card_detail[\"container\"][\"json_dict\"]:\n",
    "        return []\n",
    "    return next(\n",
    "        (\n",
    "            item for item in card_detail[\"container\"][\"json_dict\"][\"cardlists\"]\n",
    "            if item[\"header\"] == \"Top Commanders\"\n",
    "        ), \n",
    "        {\"cardviews\": []}\n",
    "    )[\"cardviews\"]\n",
    "\n",
    "operational_card_details = [\n",
    "    {\n",
    "        **card_detail[\"container\"][\"json_dict\"][\"card\"],\n",
    "        \"commanders\": get_commanders(card_detail)\n",
    "    }\n",
    "    for card_detail in card_details_json\n",
    "    if \"container\" in card_detail\n",
    "]"
   ]
  },
  {
   "cell_type": "code",
   "execution_count": 91,
   "id": "96ae96a3-10b9-4b04-8e86-790e7ab0b364",
   "metadata": {},
   "outputs": [],
   "source": [
    "json_file_directory = \"../data/operational/card_details\"\n",
    "write_json_lines_partition(operational_card_details, 64, json_file_directory)"
   ]
  }
 ],
 "metadata": {
  "kernelspec": {
   "display_name": "Python 3 (ipykernel)",
   "language": "python",
   "name": "python3"
  },
  "language_info": {
   "codemirror_mode": {
    "name": "ipython",
    "version": 3
   },
   "file_extension": ".py",
   "mimetype": "text/x-python",
   "name": "python",
   "nbconvert_exporter": "python",
   "pygments_lexer": "ipython3",
   "version": "3.11.4"
  }
 },
 "nbformat": 4,
 "nbformat_minor": 5
}
