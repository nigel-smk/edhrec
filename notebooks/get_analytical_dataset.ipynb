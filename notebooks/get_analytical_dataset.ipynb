{
 "cells": [
  {
   "cell_type": "code",
   "execution_count": 2,
   "id": "f2e647c6-3517-4326-bea6-f656d7640fc3",
   "metadata": {},
   "outputs": [],
   "source": [
    "%load_ext autoreload\n",
    "%autoreload 2"
   ]
  },
  {
   "cell_type": "code",
   "execution_count": 3,
   "id": "6cce37df-2eef-4450-bd75-d34b78b7fbee",
   "metadata": {},
   "outputs": [],
   "source": [
    "from lib.scrape import fetch_urls\n",
    "from lib.write import write_json_lines_partition, load_jsonl_directory_pandas\n",
    "from lib.extract import extract_commander_details, flatten_cards\n",
    "import pandas as pd\n",
    "import re\n",
    "import json"
   ]
  },
  {
   "cell_type": "code",
   "execution_count": 4,
   "id": "affea2bf-afaf-420b-af93-c52a64153946",
   "metadata": {},
   "outputs": [],
   "source": [
    "commanders_df = load_jsonl_directory_pandas(\"../data/operational/commander_details\")"
   ]
  },
  {
   "cell_type": "code",
   "execution_count": 5,
   "id": "2fe25986-911b-428a-9f68-22bbd13d4fc6",
   "metadata": {},
   "outputs": [],
   "source": [
    "tribed_commanders_df = load_jsonl_directory_pandas(\"../data/operational/tribed_commander_details\")"
   ]
  },
  {
   "cell_type": "code",
   "execution_count": 6,
   "id": "31766db9-a0ce-4f16-a8c6-4fdf5c860da6",
   "metadata": {},
   "outputs": [],
   "source": [
    "commanders_df = pd.concat([commanders_df, tribed_commanders_df])"
   ]
  },
  {
   "cell_type": "code",
   "execution_count": 7,
   "id": "8443a796-bcdf-4785-8b99-51f221f7816f",
   "metadata": {},
   "outputs": [],
   "source": [
    "card_types = [\n",
    "        'newcards',\n",
    "        'highsynergycards',\n",
    "        'topcards',\n",
    "        'creatures',\n",
    "        'instants',\n",
    "        'sorceries',\n",
    "        'utilityartifacts',\n",
    "        'enchantments',\n",
    "        'planeswalkers',\n",
    "        'utilitylands',\n",
    "        'manaartifacts',\n",
    "        'lands',\n",
    "        'battles'\n",
    "    ]"
   ]
  },
  {
   "cell_type": "code",
   "execution_count": 8,
   "id": "8449c003-0dc5-42c1-8829-a0988360dc73",
   "metadata": {
    "scrolled": true
   },
   "outputs": [],
   "source": [
    "commanders_df = commanders_df[['name', 'sanitized', 'num_decks', 'tribe'] + card_types]"
   ]
  },
  {
   "cell_type": "code",
   "execution_count": 9,
   "id": "b3a2bf84-8991-4563-a23c-f489c9576d6f",
   "metadata": {},
   "outputs": [],
   "source": [
    "commander_cards_df = flatten_cards(\n",
    "    commanders_df,\n",
    "    card_types\n",
    ")"
   ]
  },
  {
   "cell_type": "code",
   "execution_count": 11,
   "id": "3cbfd228-db1d-413e-9bb4-cd12d9bf1c15",
   "metadata": {},
   "outputs": [],
   "source": [
    "commander_cards_df.to_csv(\"../data/analytical/commander_cards.csv\")"
   ]
  }
 ],
 "metadata": {
  "kernelspec": {
   "display_name": "Python 3 (ipykernel)",
   "language": "python",
   "name": "python3"
  },
  "language_info": {
   "codemirror_mode": {
    "name": "ipython",
    "version": 3
   },
   "file_extension": ".py",
   "mimetype": "text/x-python",
   "name": "python",
   "nbconvert_exporter": "python",
   "pygments_lexer": "ipython3",
   "version": "3.11.4"
  }
 },
 "nbformat": 4,
 "nbformat_minor": 5
}
