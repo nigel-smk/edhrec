{
 "cells": [
  {
   "cell_type": "code",
   "execution_count": 1,
   "id": "0e9700bd-2ba5-49aa-aaef-8dad7c332434",
   "metadata": {},
   "outputs": [],
   "source": [
    "%load_ext autoreload\n",
    "%autoreload 2"
   ]
  },
  {
   "cell_type": "code",
   "execution_count": 2,
   "id": "2f45a752-4871-4543-bc0b-0a16aae767e7",
   "metadata": {},
   "outputs": [],
   "source": [
    "from lib.scrape import fetch_urls\n",
    "from lib.write import write_json_lines_partition, load_jsonl_files, filter_failures\n",
    "from lib.extract import extract_commander_details\n",
    "import pandas as pd\n",
    "import re\n",
    "import json"
   ]
  },
  {
   "cell_type": "code",
   "execution_count": 3,
   "id": "caf01595-4d08-4d28-841a-a34444fe6d23",
   "metadata": {},
   "outputs": [],
   "source": [
    "commander_details_json = load_jsonl_files(\"../data/staging/commander_details\")"
   ]
  },
  {
   "cell_type": "code",
   "execution_count": 6,
   "id": "371fa5d9-52a6-49d1-b966-d0139eb70221",
   "metadata": {},
   "outputs": [],
   "source": [
    "tribed_commander_urls = [\n",
    "    \"https://json.edhrec.com/pages\" + next(iter(commander[\"container\"][\"breadcrumb\"][-1])) + tribelink[\"href-suffix\"] + \".json\"\n",
    "    for commander in commander_details_json\n",
    "    for tribelink in commander[\"panels\"][\"tribelinks\"][\"budget\"] + commander[\"panels\"][\"tribelinks\"][\"themes\"]\n",
    "]"
   ]
  },
  {
   "cell_type": "code",
   "execution_count": 7,
   "id": "ab353a67-f49a-4bc0-b046-62cc1518a80b",
   "metadata": {},
   "outputs": [
    {
     "name": "stderr",
     "output_type": "stream",
     "text": [
      "Fetching URLs: 100%|██████████| 17850/17850 [2:29:46<00:00,  1.99URL/s, Est. Time Remaining=0.00s]       \n"
     ]
    }
   ],
   "source": [
    "write_json_lines_partition(\n",
    "    filter_failures(\n",
    "        fetch_urls(tribed_commander_urls),\n",
    "        \"../data/temp/tribed_commander_fetch_errors\"\n",
    "    ),\n",
    "    64,\n",
    "    \"../data/staging/tribed_commander_details\"\n",
    ")"
   ]
  },
  {
   "cell_type": "code",
   "execution_count": 4,
   "id": "9e7880e1-839c-4d97-9002-d2d202639841",
   "metadata": {},
   "outputs": [],
   "source": [
    "tribed_commander_details = load_jsonl_files(\"../data/staging/tribed_commander_details\")"
   ]
  },
  {
   "cell_type": "code",
   "execution_count": 12,
   "id": "638da6bf-eae9-41fd-a307-d6713dff477a",
   "metadata": {},
   "outputs": [],
   "source": [
    "operational_commander_details = extract_commander_details([\n",
    "    tribed_commander_detail[\"response\"]\n",
    "    for tribed_commander_detail in tribed_commander_details\n",
    "])\n",
    "# TODO remove the response level from the staging tribed commander details files"
   ]
  },
  {
   "cell_type": "code",
   "execution_count": 14,
   "id": "91883ea2-758f-4d46-926f-d23ca994b1e4",
   "metadata": {},
   "outputs": [],
   "source": [
    "json_file_directory = \"../data/operational/tribed_commander_details\"\n",
    "write_json_lines_partition(operational_commander_details, 64, json_file_directory)"
   ]
  }
 ],
 "metadata": {
  "kernelspec": {
   "display_name": "Python 3 (ipykernel)",
   "language": "python",
   "name": "python3"
  },
  "language_info": {
   "codemirror_mode": {
    "name": "ipython",
    "version": 3
   },
   "file_extension": ".py",
   "mimetype": "text/x-python",
   "name": "python",
   "nbconvert_exporter": "python",
   "pygments_lexer": "ipython3",
   "version": "3.11.4"
  }
 },
 "nbformat": 4,
 "nbformat_minor": 5
}
