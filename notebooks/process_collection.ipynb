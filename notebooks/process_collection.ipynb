{
 "cells": [
  {
   "cell_type": "code",
   "execution_count": 19,
   "id": "aa6eb860-7b34-4ded-a340-ceaf829124f0",
   "metadata": {},
   "outputs": [
    {
     "name": "stdout",
     "output_type": "stream",
     "text": [
      "The autoreload extension is already loaded. To reload it, use:\n",
      "  %reload_ext autoreload\n"
     ]
    }
   ],
   "source": [
    "%load_ext autoreload\n",
    "%autoreload 2"
   ]
  },
  {
   "cell_type": "code",
   "execution_count": 20,
   "id": "031075a0-a765-46ca-89c5-dbf8cfc9b2f6",
   "metadata": {},
   "outputs": [],
   "source": [
    "import pandas as pd\n",
    "import re"
   ]
  },
  {
   "cell_type": "code",
   "execution_count": 21,
   "id": "3bd66696-9e75-46b5-a43d-48f510250292",
   "metadata": {},
   "outputs": [],
   "source": [
    "collection_df = pd.read_csv(\"../data/source/helvault_23-08-28.csv\")"
   ]
  },
  {
   "cell_type": "code",
   "execution_count": 22,
   "id": "4c6306fc-977a-4edd-9ccf-e441a822ed7a",
   "metadata": {},
   "outputs": [],
   "source": [
    "collection_df['name_sanitized'] = collection_df['name'].str.lower()  # Convert to lowercase\n",
    "collection_df['name_sanitized'] = collection_df['name_sanitized'].str.replace(' ', '-')  # Replace spaces with dashes\n",
    "collection_df['name_sanitized'] = collection_df['name_sanitized'].apply(lambda x: re.sub(r'[^a-zA-Z0-9-]', '', x))\n",
    "\n",
    "collection_df['url'] = 'https://json.edhrec.com/pages/cards/' + collection_df['name_sanitized'] + '.json'"
   ]
  },
  {
   "cell_type": "code",
   "execution_count": 23,
   "id": "f2ed866c-a772-4b37-8e56-b3f1b1a44503",
   "metadata": {},
   "outputs": [],
   "source": [
    "collection_df.to_csv(\"../data/operational/collection.csv\", index=False)"
   ]
  }
 ],
 "metadata": {
  "kernelspec": {
   "display_name": "Python 3 (ipykernel)",
   "language": "python",
   "name": "python3"
  },
  "language_info": {
   "codemirror_mode": {
    "name": "ipython",
    "version": 3
   },
   "file_extension": ".py",
   "mimetype": "text/x-python",
   "name": "python",
   "nbconvert_exporter": "python",
   "pygments_lexer": "ipython3",
   "version": "3.11.4"
  }
 },
 "nbformat": 4,
 "nbformat_minor": 5
}
